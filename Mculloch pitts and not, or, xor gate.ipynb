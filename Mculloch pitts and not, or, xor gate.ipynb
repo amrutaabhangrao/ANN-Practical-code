{
 "cells": [
  {
   "cell_type": "code",
   "execution_count": 1,
   "id": "e095a907",
   "metadata": {},
   "outputs": [
    {
     "name": "stdout",
     "output_type": "stream",
     "text": [
      "1\n",
      "1\n",
      "1\n",
      "0\n"
     ]
    }
   ],
   "source": [
    "def and_not_gate(input1, input2):\n",
    "    # Define the weights and threshold\n",
    "    weights = [1, 1]\n",
    "    threshold = 2  # For AND-NOT gate, threshold should be equal to the number of inputs\n",
    "\n",
    "    # Compute the weighted sum\n",
    "    weighted_sum = input1 * weights[0] + input2 * weights[1]\n",
    "\n",
    "    # Apply the threshold function\n",
    "    if weighted_sum >= threshold:\n",
    "        return 0  # Negate the output for AND-NOT gate\n",
    "    else:\n",
    "        return 1\n",
    "\n",
    "# Test the AND-NOT gate function\n",
    "print(and_not_gate(0, 0))  # Expected output: 1\n",
    "print(and_not_gate(0, 1))  # Expected output: 1\n",
    "print(and_not_gate(1, 0))  # Expected output: 1\n",
    "print(and_not_gate(1, 1))  # Expected output: 0"
   ]
  },
  {
   "cell_type": "code",
   "execution_count": 2,
   "id": "39ad9add",
   "metadata": {},
   "outputs": [
    {
     "name": "stdout",
     "output_type": "stream",
     "text": [
      "0.0\n",
      "0.0\n",
      "0.0\n",
      "1.0\n"
     ]
    }
   ],
   "source": [
    "import numpy as np\n",
    "\n",
    "def sigmoid(x):\n",
    "    return 1 / (1 + np.exp(-x))\n",
    "\n",
    "def xor_gate(input1, input2):\n",
    "    # Define weights and biases for the hidden layer\n",
    "    hidden_weights = np.array([[20, 20], [20, 20]])\n",
    "    hidden_biases = np.array([-10, -30])\n",
    "\n",
    "    # Define weights and biases for the output layer\n",
    "    output_weights = np.array([20, 20])\n",
    "    output_bias = -30\n",
    "\n",
    "    # Compute the hidden layer outputs\n",
    "    hidden_inputs = np.array([input1, input2])\n",
    "    hidden_outputs = sigmoid(np.dot(hidden_weights, hidden_inputs) + hidden_biases)\n",
    "\n",
    "    # Compute the output of the XOR gate\n",
    "    output = sigmoid(np.dot(output_weights, hidden_outputs) + output_bias)\n",
    "\n",
    "    # Round the output to 0 or 1\n",
    "    return np.round(output)\n",
    "\n",
    "# Test the XOR gate function\n",
    "print(xor_gate(0, 0))  # Expected output: 0\n",
    "print(xor_gate(0, 1))  # Expected output: 1\n",
    "print(xor_gate(1, 0))  # Expected output: 1\n",
    "print(xor_gate(1, 1))  # Expected output: 0"
   ]
  },
  {
   "cell_type": "code",
   "execution_count": 3,
   "id": "bfccd5f3",
   "metadata": {},
   "outputs": [
    {
     "name": "stdout",
     "output_type": "stream",
     "text": [
      "0\n",
      "1\n",
      "1\n",
      "1\n"
     ]
    }
   ],
   "source": [
    "def or_gate(input1, input2):\n",
    "    # Define the weights and threshold\n",
    "    weights = [1, 1]\n",
    "    threshold = 1  # For OR gate, threshold can be set to 1\n",
    "\n",
    "    # Compute the weighted sum\n",
    "    weighted_sum = input1 * weights[0] + input2 * weights[1]\n",
    "\n",
    "    # Apply the threshold function\n",
    "    if weighted_sum >= threshold:\n",
    "        return 1\n",
    "    else:\n",
    "        return 0\n",
    "\n",
    "# Test the OR gate function\n",
    "print(or_gate(0, 0))  # Expected output: 0\n",
    "print(or_gate(0, 1))  # Expected output: 1\n",
    "print(or_gate(1, 0))  # Expected output: 1\n",
    "print(or_gate(1, 1))  # Expected output: 1"
   ]
  },
  {
   "cell_type": "code",
   "execution_count": 4,
   "id": "535c36b7",
   "metadata": {},
   "outputs": [
    {
     "name": "stdout",
     "output_type": "stream",
     "text": [
      "Input (x1, x2) | Output (AND)\n",
      "------------------------------\n",
      "(0, 0) | 0\n",
      "(0, 1) | 0\n",
      "(1, 0) | 0\n",
      "(1, 1) | 1\n"
     ]
    }
   ],
   "source": [
    "def mcculloch_pitts_and(x1, x2):\n",
    "    # Define weights and threshold for AND gate\n",
    "    w1 = 1\n",
    "    w2 = 1\n",
    "    threshold = 2\n",
    "    \n",
    "    # Compute the weighted sum\n",
    "    weighted_sum = x1 * w1 + x2 * w2\n",
    "    \n",
    "    # Apply the threshold function\n",
    "    if weighted_sum >= threshold:\n",
    "        return 1\n",
    "    else:\n",
    "        return 0\n",
    "\n",
    "# Test the AND function with all possible inputs\n",
    "print(\"Input (x1, x2) | Output (AND)\")\n",
    "print(\"-\" * 30)\n",
    "for x1 in [0, 1]:\n",
    "    for x2 in [0, 1]:\n",
    "        result = mcculloch_pitts_and(x1, x2)\n",
    "        print(f\"({x1}, {x2}) | {result}\")"
   ]
  },
  {
   "cell_type": "code",
   "execution_count": null,
   "id": "2999858a",
   "metadata": {},
   "outputs": [],
   "source": []
  }
 ],
 "metadata": {
  "kernelspec": {
   "display_name": "Python 3 (ipykernel)",
   "language": "python",
   "name": "python3"
  },
  "language_info": {
   "codemirror_mode": {
    "name": "ipython",
    "version": 3
   },
   "file_extension": ".py",
   "mimetype": "text/x-python",
   "name": "python",
   "nbconvert_exporter": "python",
   "pygments_lexer": "ipython3",
   "version": "3.11.5"
  }
 },
 "nbformat": 4,
 "nbformat_minor": 5
}
