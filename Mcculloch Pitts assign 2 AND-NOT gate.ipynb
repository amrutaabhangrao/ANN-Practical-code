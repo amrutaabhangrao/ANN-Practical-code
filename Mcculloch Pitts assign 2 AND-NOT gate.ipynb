{
 "cells": [
  {
   "cell_type": "code",
   "execution_count": 1,
   "id": "59a4d746",
   "metadata": {},
   "outputs": [
    {
     "name": "stdout",
     "output_type": "stream",
     "text": [
      "1\n",
      "1\n",
      "1\n",
      "0\n"
     ]
    }
   ],
   "source": [
    "def and_not_gate(input1, input2):\n",
    "    # Define the weights and threshold\n",
    "    weights = [1, 1]\n",
    "    threshold = 2  # For AND-NOT gate, threshold should be equal to the number of inputs\n",
    "\n",
    "    # Compute the weighted sum\n",
    "    weighted_sum = input1 * weights[0] + input2 * weights[1]\n",
    "\n",
    "    # Apply the threshold function\n",
    "    if weighted_sum >= threshold:\n",
    "        return 0  # Negate the output for AND-NOT gate\n",
    "    else:\n",
    "        return 1\n",
    "\n",
    "# Test the AND-NOT gate function\n",
    "print(and_not_gate(0, 0))  # Expected output: 1\n",
    "print(and_not_gate(0, 1))  # Expected output: 1\n",
    "print(and_not_gate(1, 0))  # Expected output: 1\n",
    "print(and_not_gate(1, 1))  # Expected output: 0"
   ]
  },
  {
   "cell_type": "code",
   "execution_count": null,
   "id": "d32f4bb0",
   "metadata": {},
   "outputs": [],
   "source": []
  }
 ],
 "metadata": {
  "kernelspec": {
   "display_name": "Python 3 (ipykernel)",
   "language": "python",
   "name": "python3"
  },
  "language_info": {
   "codemirror_mode": {
    "name": "ipython",
    "version": 3
   },
   "file_extension": ".py",
   "mimetype": "text/x-python",
   "name": "python",
   "nbconvert_exporter": "python",
   "pygments_lexer": "ipython3",
   "version": "3.11.5"
  }
 },
 "nbformat": 4,
 "nbformat_minor": 5
}
